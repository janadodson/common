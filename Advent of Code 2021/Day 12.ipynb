{
 "cells": [
  {
   "cell_type": "code",
   "execution_count": 1,
   "metadata": {},
   "outputs": [],
   "source": [
    "input_str = \"\"\"\n",
    "by-TW\n",
    "start-TW\n",
    "fw-end\n",
    "QZ-end\n",
    "JH-by\n",
    "ka-start\n",
    "ka-by\n",
    "end-JH\n",
    "QZ-cv\n",
    "vg-TI\n",
    "by-fw\n",
    "QZ-by\n",
    "JH-ka\n",
    "JH-vg\n",
    "vg-fw\n",
    "TW-cv\n",
    "QZ-vg\n",
    "ka-TW\n",
    "ka-QZ\n",
    "JH-fw\n",
    "vg-hu\n",
    "cv-start\n",
    "by-cv\n",
    "ka-cv\n",
    "\"\"\""
   ]
  },
  {
   "cell_type": "code",
   "execution_count": 2,
   "metadata": {},
   "outputs": [],
   "source": [
    "data = []\n",
    "for line in input_str.strip().split('\\n'):\n",
    "    line_split = line.split('-')\n",
    "    data.append(line_split)"
   ]
  },
  {
   "cell_type": "code",
   "execution_count": 3,
   "metadata": {},
   "outputs": [],
   "source": [
    "connections = {}\n",
    "for i, j in data:\n",
    "    if i not in connections:\n",
    "        connections[i] = set()\n",
    "    connections[i].add(j)\n",
    "    if j not in connections:\n",
    "        connections[j] = set()\n",
    "    connections[j].add(i)"
   ]
  },
  {
   "cell_type": "code",
   "execution_count": 4,
   "metadata": {},
   "outputs": [
    {
     "data": {
      "text/plain": [
       "{'by': {'JH', 'QZ', 'TW', 'cv', 'fw', 'ka'},\n",
       " 'TW': {'by', 'cv', 'ka', 'start'},\n",
       " 'start': {'TW', 'cv', 'ka'},\n",
       " 'fw': {'JH', 'by', 'end', 'vg'},\n",
       " 'end': {'JH', 'QZ', 'fw'},\n",
       " 'QZ': {'by', 'cv', 'end', 'ka', 'vg'},\n",
       " 'JH': {'by', 'end', 'fw', 'ka', 'vg'},\n",
       " 'ka': {'JH', 'QZ', 'TW', 'by', 'cv', 'start'},\n",
       " 'cv': {'QZ', 'TW', 'by', 'ka', 'start'},\n",
       " 'vg': {'JH', 'QZ', 'TI', 'fw', 'hu'},\n",
       " 'TI': {'vg'},\n",
       " 'hu': {'vg'}}"
      ]
     },
     "execution_count": 4,
     "metadata": {},
     "output_type": "execute_result"
    }
   ],
   "source": [
    "connections"
   ]
  },
  {
   "cell_type": "code",
   "execution_count": 5,
   "metadata": {},
   "outputs": [],
   "source": [
    "def get_paths(prev_path=[], current_pos='start'):\n",
    "    if current_pos == 'end':\n",
    "        return [prev_path + [current_pos]]\n",
    "    paths = []\n",
    "    for next_pos in connections[current_pos]:\n",
    "        if (next_pos.lower() != next_pos) or (next_pos not in prev_path):\n",
    "            paths = paths + get_paths(prev_path + [current_pos], next_pos)\n",
    "    return paths"
   ]
  },
  {
   "cell_type": "code",
   "execution_count": 6,
   "metadata": {
    "scrolled": true
   },
   "outputs": [
    {
     "data": {
      "text/plain": [
       "4495"
      ]
     },
     "execution_count": 6,
     "metadata": {},
     "output_type": "execute_result"
    }
   ],
   "source": [
    "len(get_paths())"
   ]
  },
  {
   "cell_type": "code",
   "execution_count": 7,
   "metadata": {},
   "outputs": [],
   "source": [
    "def get_paths2(prev_path=[], current_pos='start', small_cave_repeated=False):\n",
    "    if current_pos == 'end':\n",
    "        return [prev_path + [current_pos]]\n",
    "    paths = []\n",
    "    for next_pos in connections[current_pos]:\n",
    "        if next_pos.lower() != next_pos:\n",
    "            paths = paths + get_paths2(prev_path + [current_pos], next_pos, small_cave_repeated)\n",
    "        elif next_pos.lower() == next_pos and next_pos != 'start':\n",
    "            if prev_path.count(next_pos) == 0:\n",
    "                paths = paths + get_paths2(prev_path + [current_pos], next_pos, small_cave_repeated)\n",
    "            elif (prev_path.count(next_pos) == 1) and not small_cave_repeated:\n",
    "                paths = paths + get_paths2(prev_path + [current_pos], next_pos, True)\n",
    "    return paths"
   ]
  },
  {
   "cell_type": "code",
   "execution_count": 8,
   "metadata": {},
   "outputs": [
    {
     "data": {
      "text/plain": [
       "131254"
      ]
     },
     "execution_count": 8,
     "metadata": {},
     "output_type": "execute_result"
    }
   ],
   "source": [
    "len(get_paths2())"
   ]
  },
  {
   "cell_type": "code",
   "execution_count": null,
   "metadata": {},
   "outputs": [],
   "source": []
  }
 ],
 "metadata": {
  "kernelspec": {
   "display_name": "Python 3",
   "language": "python",
   "name": "python3"
  },
  "language_info": {
   "codemirror_mode": {
    "name": "ipython",
    "version": 3
   },
   "file_extension": ".py",
   "mimetype": "text/x-python",
   "name": "python",
   "nbconvert_exporter": "python",
   "pygments_lexer": "ipython3",
   "version": "3.6.8"
  }
 },
 "nbformat": 4,
 "nbformat_minor": 4
}
