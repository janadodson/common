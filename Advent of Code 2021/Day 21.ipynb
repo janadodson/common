{
 "cells": [
  {
   "cell_type": "code",
   "execution_count": 1,
   "metadata": {},
   "outputs": [],
   "source": [
    "from copy import deepcopy"
   ]
  },
  {
   "cell_type": "code",
   "execution_count": 2,
   "metadata": {},
   "outputs": [],
   "source": [
    "input_str = \"\"\"\n",
    "Player 1 starting position: 7\n",
    "Player 2 starting position: 1\n",
    "\"\"\""
   ]
  },
  {
   "cell_type": "code",
   "execution_count": 3,
   "metadata": {},
   "outputs": [],
   "source": [
    "input_split = input_str.strip().split('\\n')"
   ]
  },
  {
   "cell_type": "code",
   "execution_count": 4,
   "metadata": {},
   "outputs": [],
   "source": [
    "p1_start = int(input_split[0].split(' ')[-1])\n",
    "p2_start = int(input_split[1].split(' ')[-1])"
   ]
  },
  {
   "cell_type": "code",
   "execution_count": 5,
   "metadata": {},
   "outputs": [],
   "source": [
    "class Die():\n",
    "    def __init__(self):\n",
    "        self.d = 0\n",
    "        self.n_rolls = 0\n",
    "        \n",
    "    def roll(self):\n",
    "        self.n_rolls += 1\n",
    "        self.d += 1\n",
    "        if self.d > 100:\n",
    "            self.d = 1\n",
    "        return self.d"
   ]
  },
  {
   "cell_type": "code",
   "execution_count": 6,
   "metadata": {},
   "outputs": [],
   "source": [
    "def part_1():\n",
    "    die = Die()\n",
    "    turn = 1\n",
    "\n",
    "    pos = {}\n",
    "    pos[1] = p1_start\n",
    "    pos[2] = p2_start\n",
    "\n",
    "    score = {}\n",
    "    score[1] = 0\n",
    "    score[2] = 0\n",
    "\n",
    "    while True:\n",
    "        moves = die.roll() + die.roll() + die.roll()\n",
    "        pos[turn] = (pos[turn] + moves - 1) % 10 + 1\n",
    "        score[turn] += pos[turn]\n",
    "        if score[turn] >= 1000:\n",
    "            break\n",
    "        turn = turn % 2 + 1\n",
    "    \n",
    "    return min(score.values()) * die.n_rolls"
   ]
  },
  {
   "cell_type": "code",
   "execution_count": 7,
   "metadata": {},
   "outputs": [
    {
     "data": {
      "text/plain": [
       "684495"
      ]
     },
     "execution_count": 7,
     "metadata": {},
     "output_type": "execute_result"
    }
   ],
   "source": [
    "part_1()"
   ]
  },
  {
   "cell_type": "code",
   "execution_count": 8,
   "metadata": {},
   "outputs": [],
   "source": [
    "import functools\n",
    "\n",
    "@functools.lru_cache(maxsize=None)\n",
    "def take_turn(turn=1, score_1=0, score_2=0, pos_1=p1_start, pos_2=p2_start):\n",
    "    wins = {1:0, 2:0}\n",
    "    \n",
    "    for roll_1 in (1, 2, 3):\n",
    "        for roll_2 in (1, 2, 3):\n",
    "            for roll_3 in (1, 2, 3):\n",
    "                moves = roll_1 + roll_2 + roll_3\n",
    "                \n",
    "                if turn == 1:\n",
    "                    new_pos_1 = (pos_1 + moves - 1) % 10 + 1\n",
    "                    new_pos_2 = pos_2\n",
    "                    new_score_1 = score_1 + new_pos_1\n",
    "                    new_score_2 = score_2\n",
    "                    \n",
    "                if turn == 2:\n",
    "                    new_pos_1 = pos_1\n",
    "                    new_pos_2 = (pos_2 + moves - 1) % 10 + 1\n",
    "                    new_score_1 = score_1\n",
    "                    new_score_2 = score_2 + new_pos_2\n",
    "                    \n",
    "                if new_score_1 >= 21 or new_score_2 >= 21:\n",
    "                    wins[turn] += 1\n",
    "                    \n",
    "                else:\n",
    "                    new_wins = take_turn(\n",
    "                        turn=turn % 2 + 1,\n",
    "                        score_1=new_score_1,\n",
    "                        score_2=new_score_2,\n",
    "                        pos_1=new_pos_1,\n",
    "                        pos_2=new_pos_2\n",
    "                    )\n",
    "                    wins[1] += new_wins[1]\n",
    "                    wins[2] += new_wins[2]\n",
    "                    \n",
    "    return wins"
   ]
  },
  {
   "cell_type": "code",
   "execution_count": 10,
   "metadata": {},
   "outputs": [],
   "source": [
    "wins = take_turn()"
   ]
  },
  {
   "cell_type": "code",
   "execution_count": 11,
   "metadata": {},
   "outputs": [
    {
     "data": {
      "text/plain": [
       "152587196649184"
      ]
     },
     "execution_count": 11,
     "metadata": {},
     "output_type": "execute_result"
    }
   ],
   "source": [
    "max(wins.values())"
   ]
  },
  {
   "cell_type": "code",
   "execution_count": null,
   "metadata": {},
   "outputs": [],
   "source": []
  }
 ],
 "metadata": {
  "kernelspec": {
   "display_name": "Python 3",
   "language": "python",
   "name": "python3"
  },
  "language_info": {
   "codemirror_mode": {
    "name": "ipython",
    "version": 3
   },
   "file_extension": ".py",
   "mimetype": "text/x-python",
   "name": "python",
   "nbconvert_exporter": "python",
   "pygments_lexer": "ipython3",
   "version": "3.6.8"
  }
 },
 "nbformat": 4,
 "nbformat_minor": 4
}
