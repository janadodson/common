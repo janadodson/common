{
 "cells": [
  {
   "cell_type": "code",
   "execution_count": 1,
   "metadata": {},
   "outputs": [],
   "source": [
    "import numpy as np"
   ]
  },
  {
   "cell_type": "code",
   "execution_count": 2,
   "metadata": {},
   "outputs": [],
   "source": [
    "input_str = \"\"\"\n",
    "1163751742\n",
    "1381373672\n",
    "2136511328\n",
    "3694931569\n",
    "\"\"\""
   ]
  },
  {
   "cell_type": "code",
   "execution_count": 3,
   "metadata": {},
   "outputs": [],
   "source": [
    "df = np.array([[int(n) for n in list(line)] for line in input_str.strip().split('\\n')])"
   ]
  },
  {
   "cell_type": "code",
   "execution_count": 4,
   "metadata": {},
   "outputs": [],
   "source": [
    "def get_risk_score(pts):\n",
    "    score = 0\n",
    "    for x, y in pts:\n",
    "        score += df[x, y]\n",
    "    return score"
   ]
  },
  {
   "cell_type": "code",
   "execution_count": 5,
   "metadata": {},
   "outputs": [],
   "source": [
    "def move_to_next_spot(x=0, y=0, prev_pts=set()):\n",
    "    if x == df.shape[0] - 1 and y == df.shape[1] - 1:\n",
    "        return get_risk_score(prev_pts)\n",
    "    \n",
    "    risk_score_list = []\n",
    "    for i in [-1, 1]:\n",
    "        for next_x, next_y in [(x + i, y), (x, y + i)]:\n",
    "            if 0 <= next_x < df.shape[0] and 0 <= next_y < df.shape[1] and (next_x, next_y) not in prev_pts:\n",
    "                risk_score = move_to_next_spot(next_x, next_y, prev_pts.union([(next_x, next_y)]))\n",
    "                if risk_score is not None:\n",
    "                    risk_score_list.append(risk_score)\n",
    "            \n",
    "    if len(risk_score_list) == 0:\n",
    "        return None\n",
    "    \n",
    "    return min(risk_score_list)"
   ]
  },
  {
   "cell_type": "code",
   "execution_count": null,
   "metadata": {},
   "outputs": [],
   "source": [
    "move_to_next_spot()"
   ]
  },
  {
   "cell_type": "code",
   "execution_count": null,
   "metadata": {},
   "outputs": [],
   "source": [
    "df.shape"
   ]
  },
  {
   "cell_type": "code",
   "execution_count": null,
   "metadata": {},
   "outputs": [],
   "source": []
  }
 ],
 "metadata": {
  "kernelspec": {
   "display_name": "Python 3",
   "language": "python",
   "name": "python3"
  },
  "language_info": {
   "codemirror_mode": {
    "name": "ipython",
    "version": 3
   },
   "file_extension": ".py",
   "mimetype": "text/x-python",
   "name": "python",
   "nbconvert_exporter": "python",
   "pygments_lexer": "ipython3",
   "version": "3.6.8"
  }
 },
 "nbformat": 4,
 "nbformat_minor": 4
}
