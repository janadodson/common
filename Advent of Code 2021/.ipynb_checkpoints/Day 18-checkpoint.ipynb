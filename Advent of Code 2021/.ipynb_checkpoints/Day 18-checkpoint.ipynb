{
 "cells": [
  {
   "cell_type": "code",
   "execution_count": 1,
   "metadata": {},
   "outputs": [],
   "source": [
    "from copy import deepcopy"
   ]
  },
  {
   "cell_type": "code",
   "execution_count": 2,
   "metadata": {},
   "outputs": [],
   "source": [
    "def pair_str_to_list(pair):\n",
    "    pair = list(pair)\n",
    "    for i in range(len(pair)):\n",
    "        if pair[i] not in ('[', ']', ','):\n",
    "            pair[i] = int(pair[i])\n",
    "    return pair"
   ]
  },
  {
   "cell_type": "code",
   "execution_count": 3,
   "metadata": {},
   "outputs": [],
   "source": [
    "def find_num(pair, i, look_dir=-1):\n",
    "    j = i + look_dir\n",
    "    while j >= 0 and j < len(pair):\n",
    "        if pair[j] not in ('[', ']', ','):\n",
    "            return j\n",
    "        j += look_dir"
   ]
  },
  {
   "cell_type": "code",
   "execution_count": 4,
   "metadata": {},
   "outputs": [],
   "source": [
    "def explode_pair(pair_orig, i):\n",
    "    pair = deepcopy(pair_orig)\n",
    "    \n",
    "    next_right_loc = find_num(pair, i + 1, 1)\n",
    "    if next_right_loc is not None:\n",
    "        pair[next_right_loc] += pair[i + 1]\n",
    "        \n",
    "    next_left_loc = find_num(pair, i - 1, -1)\n",
    "    if next_left_loc is not None:\n",
    "        pair[next_left_loc] += pair[i - 1]\n",
    "        \n",
    "    return pair[:i - 2] + [0] + pair[i + 3:]"
   ]
  },
  {
   "cell_type": "code",
   "execution_count": 5,
   "metadata": {},
   "outputs": [],
   "source": [
    "def split_pair(pair_orig, i):\n",
    "    pair = deepcopy(pair_orig)\n",
    "    \n",
    "    left = pair[i] // 2\n",
    "    right = pair[i] - left\n",
    "    \n",
    "    return pair[:i] + ['[', left, ',', right, ']'] + pair[i + 1:]"
   ]
  },
  {
   "cell_type": "code",
   "execution_count": 6,
   "metadata": {},
   "outputs": [],
   "source": [
    "def reduce_step(pair_orig):\n",
    "    pair = deepcopy(pair_orig)\n",
    "    \n",
    "    depth = 0\n",
    "    for i in range(len(pair)):\n",
    "        if pair[i] == '[':\n",
    "            depth += 1\n",
    "        elif pair[i] == ']':\n",
    "            depth -= 1\n",
    "        elif pair[i] == ',' and depth == 5:\n",
    "            return explode_pair(pair, i)\n",
    "            \n",
    "    for i in range(len(pair)):    \n",
    "        if type(pair[i]) != str and pair[i] >= 10:\n",
    "            return split_pair(pair, i)\n",
    "        \n",
    "    return pair"
   ]
  },
  {
   "cell_type": "code",
   "execution_count": 7,
   "metadata": {},
   "outputs": [],
   "source": [
    "def reduce(pair_orig):\n",
    "    pair = deepcopy(pair_orig)\n",
    "    while True:\n",
    "        new_pair = reduce_step(pair)\n",
    "        if new_pair == pair:\n",
    "            break\n",
    "        pair = new_pair\n",
    "    return pair"
   ]
  },
  {
   "cell_type": "code",
   "execution_count": 8,
   "metadata": {},
   "outputs": [],
   "source": [
    "def add(pair1, pair2):\n",
    "    pair1 = pair_str_to_list(pair1)\n",
    "    pair2 = pair_str_to_list(pair2)\n",
    "    pair = ['['] + pair1 + [','] + pair2 + [']']\n",
    "    pair = reduce(pair)\n",
    "    return ''.join([str(x) for x in pair])"
   ]
  },
  {
   "cell_type": "code",
   "execution_count": 9,
   "metadata": {},
   "outputs": [],
   "source": [
    "def fill_magnitude(pair):\n",
    "    for i in range(len(pair)):\n",
    "        if pair[i] == ',' and type(pair[i-1]) != str and type(pair[i+1]) != str:\n",
    "            magnitude = 3 * pair[i-1] + 2 * pair[i+1]\n",
    "            return pair[:i-2] + [magnitude] + pair[i+3:]"
   ]
  },
  {
   "cell_type": "code",
   "execution_count": 10,
   "metadata": {},
   "outputs": [],
   "source": [
    "def get_magnitude(pair_orig):\n",
    "    pair = deepcopy(pair_orig)\n",
    "    while True:\n",
    "        new_pair = fill_magnitude(pair)\n",
    "        if len(new_pair) == 1:\n",
    "            break\n",
    "        pair = new_pair\n",
    "    return new_pair[0]"
   ]
  },
  {
   "cell_type": "code",
   "execution_count": 11,
   "metadata": {},
   "outputs": [],
   "source": [
    "input_str = \"\"\"\n",
    "[[2,[2,[4,0]]],[6,1]]\n",
    "[[3,[4,[2,4]]],[[6,9],[6,1]]]\n",
    "[7,[8,[8,[0,8]]]]\n",
    "[[[[2,9],5],5],[[[0,1],8],[[7,9],5]]]\n",
    "[[[[3,0],[7,0]],[[9,6],[1,9]]],4]\n",
    "[[[0,[4,8]],8],[[[2,1],9],6]]\n",
    "[[[5,[7,7]],[[9,6],2]],[[[5,8],8],0]]\n",
    "[[0,3],[[8,2],[6,[2,2]]]]\n",
    "[[[9,0],[4,[4,7]]],[7,[[9,1],9]]]\n",
    "[0,[7,[1,1]]]\n",
    "[[[4,[0,1]],[[1,0],8]],[[[3,9],[0,1]],[[9,1],[8,8]]]]\n",
    "[[[6,0],3],2]\n",
    "[[[[4,1],[2,7]],[9,[8,9]]],[[3,0],0]]\n",
    "[[[[2,4],[8,7]],[9,[9,7]]],[[[2,5],6],9]]\n",
    "[[7,6],[[4,[2,4]],[3,8]]]\n",
    "[[7,2],[[8,8],7]]\n",
    "[[[[6,0],4],[[4,7],4]],[[6,[2,7]],[[6,5],3]]]\n",
    "[[[[8,8],[7,6]],4],5]\n",
    "[[0,[[6,9],[7,9]]],[9,5]]\n",
    "[9,[[[0,4],6],[[7,0],0]]]\n",
    "[[[[4,4],0],[3,[3,9]]],[[7,5],[5,[7,2]]]]\n",
    "[[[8,3],[[8,5],[4,4]]],[0,[0,3]]]\n",
    "[[9,[3,[6,7]]],[[7,0],[[9,2],7]]]\n",
    "[[[3,7],[[3,6],9]],7]\n",
    "[[2,[2,[5,7]]],[[[6,4],5],[4,7]]]\n",
    "[[[[9,0],2],[[4,4],6]],[[[3,2],[5,5]],[[5,9],7]]]\n",
    "[[[[2,5],4],[8,5]],6]\n",
    "[[[3,2],[[1,7],5]],[[8,1],[1,[1,2]]]]\n",
    "[8,[[3,[5,4]],5]]\n",
    "[[[2,[5,9]],[1,3]],[[[2,3],[8,3]],[[5,1],[8,9]]]]\n",
    "[[[2,0],[[3,3],[4,7]]],[[[8,7],[7,4]],1]]\n",
    "[[[[7,4],9],[3,[4,1]]],[[[8,4],5],7]]\n",
    "[[[[0,2],9],3],[9,[5,3]]]\n",
    "[3,4]\n",
    "[[[1,[0,2]],[[9,9],[8,2]]],6]\n",
    "[[[[2,9],[3,5]],9],[[9,3],[3,[6,7]]]]\n",
    "[[0,[[4,6],4]],[2,[5,2]]]\n",
    "[9,[[9,[6,8]],8]]\n",
    "[3,[[[1,2],[0,9]],[[4,9],1]]]\n",
    "[[[[8,7],[1,7]],[[2,6],[8,5]]],[3,[[8,0],[6,9]]]]\n",
    "[[8,[[4,9],7]],[3,[9,4]]]\n",
    "[[0,[[3,2],[2,2]]],0]\n",
    "[[[2,7],[[5,7],4]],[[[6,0],[2,1]],[[4,1],[1,6]]]]\n",
    "[[[[9,6],[0,3]],[[0,6],[0,4]]],[[[3,7],[6,7]],7]]\n",
    "[[[[1,1],6],[[5,6],4]],[[5,[0,7]],1]]\n",
    "[[[3,9],[[7,3],[1,5]]],[[[1,2],3],[0,[5,6]]]]\n",
    "[[[[4,4],[0,5]],6],[[7,[2,0]],6]]\n",
    "[[[[2,2],6],9],[[[9,1],2],[[8,6],8]]]\n",
    "[[[[5,0],8],[[5,7],7]],[6,[5,3]]]\n",
    "[[[[8,2],[8,4]],1],[[1,[7,3]],8]]\n",
    "[[[[3,2],2],[[4,9],[5,4]]],[[[9,2],4],[5,[6,0]]]]\n",
    "[[1,[[0,6],0]],[[[1,5],2],[[6,0],[3,7]]]]\n",
    "[4,[7,[6,[3,3]]]]\n",
    "[[[0,[2,5]],2],5]\n",
    "[[[0,[5,7]],9],[[[2,3],[3,4]],[[0,4],9]]]\n",
    "[[3,1],[[[4,1],9],[[0,5],[8,6]]]]\n",
    "[[9,[2,0]],[[0,[1,7]],[9,[6,4]]]]\n",
    "[[[[6,5],5],5],[5,8]]\n",
    "[[[[2,8],[1,3]],[[5,4],2]],[[[0,8],[5,1]],[9,[5,6]]]]\n",
    "[[[[6,9],7],[9,7]],2]\n",
    "[[[[1,7],8],[8,7]],[[[3,5],4],8]]\n",
    "[[[[1,8],[1,0]],0],[[7,1],5]]\n",
    "[[[9,[6,8]],3],[[5,1],[4,[8,2]]]]\n",
    "[[[0,[2,1]],1],[3,[9,[5,5]]]]\n",
    "[[2,5],[2,5]]\n",
    "[[[[1,1],[8,3]],[[1,9],[4,9]]],[[5,[4,8]],[[5,0],0]]]\n",
    "[[[0,7],[[3,4],1]],[[[1,2],[2,9]],[[2,0],9]]]\n",
    "[3,2]\n",
    "[[[9,[8,2]],[7,3]],7]\n",
    "[[[[6,9],9],[3,2]],0]\n",
    "[[3,[[6,1],8]],6]\n",
    "[[[[5,9],9],[[4,4],7]],[7,5]]\n",
    "[1,[[2,8],0]]\n",
    "[[2,[0,6]],[[[3,3],[0,4]],8]]\n",
    "[[[[4,8],9],[0,[3,0]]],[[0,[3,1]],[8,[7,4]]]]\n",
    "[[[6,[8,0]],[0,[8,9]]],[3,8]]\n",
    "[[[[0,8],[9,4]],[1,[2,0]]],1]\n",
    "[[7,6],[[[0,2],9],3]]\n",
    "[[[[1,0],3],2],1]\n",
    "[[[[1,2],8],5],7]\n",
    "[0,[[3,0],7]]\n",
    "[[7,[[0,9],[8,4]]],[[2,0],[[2,8],1]]]\n",
    "[[[1,8],[[8,1],1]],[3,[8,9]]]\n",
    "[4,[[3,7],[[5,2],9]]]\n",
    "[[[[3,8],[2,9]],[3,9]],[[[3,7],[6,9]],[[1,7],2]]]\n",
    "[9,[[[3,7],9],[[4,9],[8,6]]]]\n",
    "[[7,[3,9]],[0,7]]\n",
    "[[[1,6],0],[[7,[8,1]],[6,3]]]\n",
    "[[[[3,9],3],[[2,6],[8,0]]],[[3,3],9]]\n",
    "[[[1,2],[1,6]],[[1,[4,2]],0]]\n",
    "[[[0,[3,0]],2],[[7,[9,4]],[6,8]]]\n",
    "[6,[[[3,1],1],5]]\n",
    "[[[3,4],[[5,9],[1,1]]],[[2,[0,1]],3]]\n",
    "[[2,[[1,5],7]],[0,2]]\n",
    "[[1,[[6,7],7]],4]\n",
    "[6,[5,[[3,2],[6,8]]]]\n",
    "[[[3,9],[[4,0],6]],[8,[3,[5,2]]]]\n",
    "[[5,[[7,3],[2,2]]],[[7,7],7]]\n",
    "[[[1,2],[[2,4],[6,1]]],[[0,[4,2]],[[5,7],[2,3]]]]\n",
    "[[[8,7],8],[[7,[3,6]],[[1,0],4]]]\n",
    "\"\"\""
   ]
  },
  {
   "cell_type": "code",
   "execution_count": 12,
   "metadata": {},
   "outputs": [],
   "source": [
    "pair_list = input_str.strip().split('\\n')"
   ]
  },
  {
   "cell_type": "code",
   "execution_count": 20,
   "metadata": {},
   "outputs": [],
   "source": [
    "pair1 = pair_list[0]\n",
    "for pair2 in pair_list[1:]:\n",
    "    pair1 = add(pair1, pair2)"
   ]
  },
  {
   "cell_type": "code",
   "execution_count": 21,
   "metadata": {},
   "outputs": [
    {
     "data": {
      "text/plain": [
       "4072"
      ]
     },
     "execution_count": 21,
     "metadata": {},
     "output_type": "execute_result"
    }
   ],
   "source": [
    "get_magnitude(pair_str_to_list(pair1))"
   ]
  },
  {
   "cell_type": "code",
   "execution_count": 24,
   "metadata": {},
   "outputs": [],
   "source": [
    "max_mag = 0\n",
    "for pair1 in pair_list:\n",
    "    for pair2 in pair_list:\n",
    "        if pair1 != pair2:\n",
    "            new_pair = add(pair1, pair2)\n",
    "            mag = get_magnitude(pair_str_to_list(new_pair))\n",
    "            max_mag = max(max_mag, mag)"
   ]
  },
  {
   "cell_type": "code",
   "execution_count": 25,
   "metadata": {},
   "outputs": [
    {
     "data": {
      "text/plain": [
       "4483"
      ]
     },
     "execution_count": 25,
     "metadata": {},
     "output_type": "execute_result"
    }
   ],
   "source": [
    "max_mag"
   ]
  }
 ],
 "metadata": {
  "kernelspec": {
   "display_name": "Python 3",
   "language": "python",
   "name": "python3"
  },
  "language_info": {
   "codemirror_mode": {
    "name": "ipython",
    "version": 3
   },
   "file_extension": ".py",
   "mimetype": "text/x-python",
   "name": "python",
   "nbconvert_exporter": "python",
   "pygments_lexer": "ipython3",
   "version": "3.6.8"
  }
 },
 "nbformat": 4,
 "nbformat_minor": 4
}
