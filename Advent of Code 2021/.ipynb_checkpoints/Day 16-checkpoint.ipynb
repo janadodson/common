{
 "cells": [
  {
   "cell_type": "code",
   "execution_count": 1,
   "metadata": {},
   "outputs": [],
   "source": [
    "hex_map = {\n",
    "    '0': '0000',\n",
    "    '1': '0001',\n",
    "    '2': '0010',\n",
    "    '3': '0011',\n",
    "    '4': '0100',\n",
    "    '5': '0101',\n",
    "    '6': '0110',\n",
    "    '7': '0111',\n",
    "    '8': '1000',\n",
    "    '9': '1001',\n",
    "    'A': '1010',\n",
    "    'B': '1011',\n",
    "    'C': '1100',\n",
    "    'D': '1101',\n",
    "    'E': '1110',\n",
    "    'F': '1111'\n",
    "}"
   ]
  },
  {
   "cell_type": "code",
   "execution_count": 2,
   "metadata": {},
   "outputs": [],
   "source": [
    "bit_map = dict(zip(hex_map.values(), hex_map.keys()))"
   ]
  },
  {
   "cell_type": "code",
   "execution_count": 3,
   "metadata": {},
   "outputs": [],
   "source": [
    "def hex_to_bit(hex_str):\n",
    "    bit_str = ''\n",
    "    for hex_ch in hex_str:\n",
    "        bit_str += hex_map[hex_ch]\n",
    "    return bit_str"
   ]
  },
  {
   "cell_type": "code",
   "execution_count": 4,
   "metadata": {},
   "outputs": [],
   "source": [
    "def get_packet_version(bit_str):\n",
    "    return int(bit_map['0' + bit_str[:3]])"
   ]
  },
  {
   "cell_type": "code",
   "execution_count": 5,
   "metadata": {},
   "outputs": [],
   "source": [
    "def is_literal_packet(bit_str):\n",
    "    return bit_map['0' + bit_str[3:6]] == '4'"
   ]
  },
  {
   "cell_type": "code",
   "execution_count": 7,
   "metadata": {},
   "outputs": [],
   "source": [
    "def parse_literal_packet(bit_str):\n",
    "    num_bit_str = ''\n",
    "    i = 6\n",
    "    while True:\n",
    "        bit_str_small = bit_str[i:i+5]\n",
    "        num_bit_str += bit_str_small[1:]\n",
    "        if bit_str_small[0] == '0':\n",
    "            break\n",
    "        i += 5\n",
    "    number = int(num_bit_str, 2)\n",
    "    \n",
    "    remaining_str = bit_str[i + 5:]\n",
    "    \n",
    "    return number, remaining_str"
   ]
  },
  {
   "cell_type": "code",
   "execution_count": 72,
   "metadata": {},
   "outputs": [],
   "source": [
    "def parse_packet(bit_str):\n",
    "    total_versions = get_packet_version(bit_str)\n",
    "    \n",
    "    if is_literal_packet(bit_str):\n",
    "        total_number, remaining_str = parse_literal_packet(bit_str)\n",
    "        \n",
    "    else:\n",
    "        numbers = []\n",
    "        \n",
    "        if bit_str[6] == '0':\n",
    "            bit_len = int(bit_str[7:7 + 15], 2)\n",
    "\n",
    "            sub_remaining_str = bit_str[7 + 15:7 + 15 + bit_len]\n",
    "            while len(sub_remaining_str) > 0:\n",
    "                sub_total_versions, sub_remaining_str, number = parse_packet(sub_remaining_str)\n",
    "                total_versions += sub_total_versions\n",
    "                numbers.append(number)\n",
    "\n",
    "            remaining_str = bit_str[7 + 15 + bit_len:]\n",
    "            \n",
    "        elif bit_str[6] == '1':\n",
    "            num_subs = int(bit_str[7:7 + 11], 2)\n",
    "\n",
    "            remaining_str = bit_str[7 + 11:]\n",
    "            for i in range(num_subs):\n",
    "                sub_total_versions, remaining_str, number = parse_packet(remaining_str)\n",
    "                total_versions += sub_total_versions\n",
    "                numbers.append(number)\n",
    "                \n",
    "        \n",
    "    \n",
    "    return total_versions, remaining_str, total_number"
   ]
  },
  {
   "cell_type": "code",
   "execution_count": 73,
   "metadata": {},
   "outputs": [
    {
     "data": {
      "text/plain": [
       "2"
      ]
     },
     "execution_count": 73,
     "metadata": {},
     "output_type": "execute_result"
    }
   ],
   "source": [
    "hex_str = '40541D900AEDC01A88002191FE2F45D1006A2FC2388D278D4653E3910020F2E2F3E24C007ECD7ABA6A200E6E8017F92C934CFA0E5290B569CE0F4BA5180213D963C00DC40010A87905A0900021B0D624C34600906725FFCF597491C6008C01B0004223342488A200F4378C9198401B87311A0C0803E600FC4887F14CC01C8AF16A2010021D1260DC7530042C012957193779F96AD9B36100907A00980021513E3943600043225C1A8EB2C3040043CC3B1802B400D3CA4B8D3292E37C30600B325A541D979606E384B524C06008E802515A638A73A226009CDA5D8026200D473851150401E8BF16E2ACDFB7DCD4F5C02897A5288D299D89CA6AA672AD5118804F592FC5BE8037000042217C64876000874728550D4C0149F29D00524ACCD2566795A0D880432BEAC79995C86483A6F3B9F6833397DEA03E401004F28CD894B9C48A34BC371CF7AA840155E002012E21260923DC4C248035299ECEB0AC4DFC0179B864865CF8802F9A005E264C25372ABAC8DEA706009F005C32B7FCF1BF91CADFF3C6FE4B3FB073005A6F93B633B12E0054A124BEE9C570004B245126F6E11E5C0199BDEDCE589275C10027E97BE7EF330F126DF3817354FFC82671BB5402510C803788DFA009CAFB14ECDFE57D8A766F0001A74F924AC99678864725F253FD134400F9B5D3004A46489A00A4BEAD8F7F1F7497C39A0020F357618C71648032BB004E4BBC4292EF1167274F1AA0078902262B0D4718229C8608A5226528F86008CFA6E802F275E2248C65F3610066274CEA9A86794E58AA5E5BDE73F34945E2008D27D2278EE30C489B3D20336D00C2F002DF480AC820287D8096F700288082C001DE1400C50035005AA2013E5400B10028C009600A74001EF2004F8400C92B172801F0F4C0139B8E19A8017D96A510A7E698800EAC9294A6E985783A400AE4A2945E9170'\n",
    "bit_str = hex_to_bit(hex_str)\n",
    "get_packet_version(bit_str)"
   ]
  },
  {
   "cell_type": "code",
   "execution_count": 74,
   "metadata": {},
   "outputs": [
    {
     "data": {
      "text/plain": [
       "(945, '000')"
      ]
     },
     "execution_count": 74,
     "metadata": {},
     "output_type": "execute_result"
    }
   ],
   "source": [
    "parse_packet(bit_str)"
   ]
  },
  {
   "cell_type": "code",
   "execution_count": null,
   "metadata": {},
   "outputs": [],
   "source": []
  }
 ],
 "metadata": {
  "kernelspec": {
   "display_name": "Python 3",
   "language": "python",
   "name": "python3"
  },
  "language_info": {
   "codemirror_mode": {
    "name": "ipython",
    "version": 3
   },
   "file_extension": ".py",
   "mimetype": "text/x-python",
   "name": "python",
   "nbconvert_exporter": "python",
   "pygments_lexer": "ipython3",
   "version": "3.6.8"
  }
 },
 "nbformat": 4,
 "nbformat_minor": 4
}
