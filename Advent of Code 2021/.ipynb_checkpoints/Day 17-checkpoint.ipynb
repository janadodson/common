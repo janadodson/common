{
 "cells": [
  {
   "cell_type": "code",
   "execution_count": 1,
   "metadata": {},
   "outputs": [],
   "source": [
    "def step(x, y, vx, vy):\n",
    "    x += vx\n",
    "    y += vy\n",
    "\n",
    "    if vx > 0:\n",
    "        vx -= 1\n",
    "    elif vx < 0:\n",
    "        vx += 1\n",
    "\n",
    "    vy -= 1\n",
    "\n",
    "    return x, y, vx, vy"
   ]
  },
  {
   "cell_type": "code",
   "execution_count": 2,
   "metadata": {},
   "outputs": [],
   "source": [
    "def run_simulation(vx, vy):\n",
    "    x = y = 0\n",
    "    min_x, max_x = 70, 96\n",
    "    min_y, max_y = -179, -124\n",
    "    \n",
    "    y_list = [y]\n",
    "    while True:\n",
    "        x, y, vx, vy = step(x, y, vx, vy)\n",
    "        y_list.append(y)\n",
    "        if max_y >= y and (min_x <= x or vx == 0):\n",
    "            landed = min_x <= x <= max_x and min_y <= y <= max_y\n",
    "            break\n",
    "            \n",
    "    max_height = max(y_list)\n",
    "    \n",
    "    return landed, max_height"
   ]
  },
  {
   "cell_type": "code",
   "execution_count": 3,
   "metadata": {},
   "outputs": [
    {
     "data": {
      "text/plain": [
       "(False, 45)"
      ]
     },
     "execution_count": 3,
     "metadata": {},
     "output_type": "execute_result"
    }
   ],
   "source": [
    "run_simulation(6, 9)"
   ]
  },
  {
   "cell_type": "code",
   "execution_count": 59,
   "metadata": {},
   "outputs": [],
   "source": [
    "count = 0\n",
    "max_max_height = 0\n",
    "for vx in range(0, 97):\n",
    "    for vy in range(-179, 179):\n",
    "        landed, max_height = run_simulation(vx, vy)\n",
    "        if landed:\n",
    "            max_max_height = max(max_max_height, max_height)\n",
    "            count += 1"
   ]
  },
  {
   "cell_type": "code",
   "execution_count": 60,
   "metadata": {},
   "outputs": [
    {
     "data": {
      "text/plain": [
       "15931"
      ]
     },
     "execution_count": 60,
     "metadata": {},
     "output_type": "execute_result"
    }
   ],
   "source": [
    "max_max_height"
   ]
  },
  {
   "cell_type": "code",
   "execution_count": 61,
   "metadata": {},
   "outputs": [
    {
     "data": {
      "text/plain": [
       "2555"
      ]
     },
     "execution_count": 61,
     "metadata": {},
     "output_type": "execute_result"
    }
   ],
   "source": [
    "count"
   ]
  },
  {
   "cell_type": "code",
   "execution_count": null,
   "metadata": {},
   "outputs": [],
   "source": []
  }
 ],
 "metadata": {
  "kernelspec": {
   "display_name": "Python 3",
   "language": "python",
   "name": "python3"
  },
  "language_info": {
   "codemirror_mode": {
    "name": "ipython",
    "version": 3
   },
   "file_extension": ".py",
   "mimetype": "text/x-python",
   "name": "python",
   "nbconvert_exporter": "python",
   "pygments_lexer": "ipython3",
   "version": "3.6.8"
  }
 },
 "nbformat": 4,
 "nbformat_minor": 4
}
