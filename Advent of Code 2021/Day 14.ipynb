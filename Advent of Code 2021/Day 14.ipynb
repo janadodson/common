{
 "cells": [
  {
   "cell_type": "code",
   "execution_count": 1,
   "metadata": {},
   "outputs": [],
   "source": [
    "input_str = \"\"\"\n",
    "BVBNBVPOKVFHBVCSHCFO\n",
    "\n",
    "SO -> V\n",
    "PB -> P\n",
    "HV -> N\n",
    "VF -> O\n",
    "KS -> F\n",
    "BB -> C\n",
    "SH -> H\n",
    "SB -> C\n",
    "FS -> F\n",
    "PV -> F\n",
    "BC -> K\n",
    "SF -> S\n",
    "NO -> O\n",
    "SK -> C\n",
    "PO -> N\n",
    "VK -> F\n",
    "FC -> C\n",
    "VV -> S\n",
    "SV -> S\n",
    "HH -> K\n",
    "FH -> K\n",
    "HN -> O\n",
    "NP -> F\n",
    "PK -> N\n",
    "VO -> K\n",
    "NC -> C\n",
    "KP -> B\n",
    "CS -> C\n",
    "KO -> F\n",
    "BK -> N\n",
    "OO -> N\n",
    "CF -> H\n",
    "KN -> C\n",
    "BV -> S\n",
    "OK -> O\n",
    "CN -> F\n",
    "OP -> O\n",
    "VP -> N\n",
    "OC -> P\n",
    "NH -> C\n",
    "VN -> S\n",
    "VC -> B\n",
    "NF -> H\n",
    "FO -> H\n",
    "CC -> B\n",
    "KB -> N\n",
    "CP -> N\n",
    "HK -> N\n",
    "FB -> H\n",
    "BH -> V\n",
    "BN -> N\n",
    "KC -> F\n",
    "CV -> K\n",
    "SP -> V\n",
    "VS -> P\n",
    "KF -> S\n",
    "CH -> V\n",
    "NS -> N\n",
    "HS -> O\n",
    "CK -> K\n",
    "NB -> O\n",
    "OF -> K\n",
    "VB -> N\n",
    "PS -> B\n",
    "KH -> P\n",
    "BS -> C\n",
    "VH -> C\n",
    "KK -> F\n",
    "FN -> F\n",
    "BP -> B\n",
    "HF -> O\n",
    "HB -> V\n",
    "OV -> H\n",
    "NV -> N\n",
    "HO -> S\n",
    "OS -> H\n",
    "SS -> K\n",
    "BO -> V\n",
    "OB -> K\n",
    "HP -> P\n",
    "CO -> B\n",
    "PP -> K\n",
    "HC -> N\n",
    "BF -> S\n",
    "NK -> S\n",
    "ON -> P\n",
    "PH -> C\n",
    "FV -> H\n",
    "CB -> H\n",
    "PC -> K\n",
    "FF -> P\n",
    "PN -> P\n",
    "NN -> O\n",
    "PF -> F\n",
    "SC -> C\n",
    "FK -> K\n",
    "SN -> K\n",
    "KV -> P\n",
    "FP -> B\n",
    "OH -> F\n",
    "\"\"\""
   ]
  },
  {
   "cell_type": "code",
   "execution_count": 2,
   "metadata": {},
   "outputs": [],
   "source": [
    "temp = input_str.strip().split('\\n\\n')[0]"
   ]
  },
  {
   "cell_type": "code",
   "execution_count": 3,
   "metadata": {},
   "outputs": [],
   "source": [
    "rules = {}\n",
    "for line in input_str.strip().split('\\n\\n')[1].split('\\n'):\n",
    "    line_split = line.split(' -> ')\n",
    "    rules[line_split[0]] = line_split[1]"
   ]
  },
  {
   "cell_type": "code",
   "execution_count": 4,
   "metadata": {},
   "outputs": [],
   "source": [
    "temp"
   ]
  },
  {
   "cell_type": "code",
   "execution_count": 5,
   "metadata": {},
   "outputs": [],
   "source": [
    "rules"
   ]
  },
  {
   "cell_type": "code",
   "execution_count": 6,
   "metadata": {},
   "outputs": [],
   "source": [
    "def get_new_str(old_str):\n",
    "    new_str = ''\n",
    "    for i in range(len(old_str)-1):\n",
    "        pair = old_str[i:i+2]\n",
    "        new_str += pair[0]\n",
    "        new_str += rules[pair]\n",
    "    new_str += old_str[-1]\n",
    "    return new_str"
   ]
  },
  {
   "cell_type": "code",
   "execution_count": 7,
   "metadata": {},
   "outputs": [],
   "source": [
    "old_str = temp\n",
    "for i in range(10):\n",
    "    new_str = get_new_str(old_str)\n",
    "    old_str = new_str"
   ]
  },
  {
   "cell_type": "code",
   "execution_count": 8,
   "metadata": {},
   "outputs": [],
   "source": [
    "letters = list(set(new_str))\n",
    "counts = []\n",
    "for letter in letters:\n",
    "    counts.append(new_str.count(letter))"
   ]
  },
  {
   "cell_type": "code",
   "execution_count": 9,
   "metadata": {},
   "outputs": [],
   "source": [
    "max(counts) - min(counts)"
   ]
  },
  {
   "cell_type": "code",
   "execution_count": 10,
   "metadata": {},
   "outputs": [],
   "source": [
    "pair_counts = {}\n",
    "letter_counts = {}\n",
    "for i in range(len(temp)-1):\n",
    "    pair = temp[i:i+2]\n",
    "    if pair not in pair_counts:\n",
    "        pair_counts[pair] = 0\n",
    "    pair_counts[pair] += 1\n",
    "for letter in temp:\n",
    "    if letter not in letter_counts:\n",
    "        letter_counts[letter] = 0\n",
    "    letter_counts[letter] += 1"
   ]
  },
  {
   "cell_type": "code",
   "execution_count": 11,
   "metadata": {
    "scrolled": true
   },
   "outputs": [],
   "source": [
    "pair_counts"
   ]
  },
  {
   "cell_type": "code",
   "execution_count": 12,
   "metadata": {},
   "outputs": [
    {
     "data": {
      "text/plain": [
       "{'B': 4,\n",
       " 'V': 4,\n",
       " 'N': 1,\n",
       " 'P': 1,\n",
       " 'O': 2,\n",
       " 'K': 1,\n",
       " 'F': 2,\n",
       " 'H': 2,\n",
       " 'C': 2,\n",
       " 'S': 1}"
      ]
     },
     "execution_count": 12,
     "metadata": {},
     "output_type": "execute_result"
    }
   ],
   "source": [
    "letter_counts"
   ]
  },
  {
   "cell_type": "code",
   "execution_count": 13,
   "metadata": {},
   "outputs": [],
   "source": [
    "def get_new_pair_counts(old_letter_counts, old_pair_counts):\n",
    "    new_letter_counts = old_letter_counts\n",
    "    new_pair_counts = {}\n",
    "    for pair, count in old_pair_counts.items():\n",
    "        for new_pair in [pair[0] + rules[pair], rules[pair] + pair[1]]:\n",
    "            if new_pair not in new_pair_counts:\n",
    "                new_pair_counts[new_pair] = 0\n",
    "            new_pair_counts[new_pair] += count\n",
    "        if rules[pair] not in new_letter_counts:\n",
    "            new_letter_counts[rules[pair]] = 0\n",
    "        new_letter_counts[rules[pair]] += count\n",
    "    return new_letter_counts, new_pair_counts"
   ]
  },
  {
   "cell_type": "code",
   "execution_count": 14,
   "metadata": {},
   "outputs": [],
   "source": [
    "old_letter_counts = letter_counts\n",
    "old_pair_counts = pair_counts\n",
    "for i in range(40):\n",
    "    new_letter_counts, new_pair_counts = get_new_pair_counts(old_letter_counts, old_pair_counts)\n",
    "    old_letter_counts = new_letter_counts\n",
    "    old_pair_counts = new_pair_counts"
   ]
  },
  {
   "cell_type": "code",
   "execution_count": 18,
   "metadata": {},
   "outputs": [
    {
     "data": {
      "text/plain": [
       "2984946368465"
      ]
     },
     "execution_count": 18,
     "metadata": {},
     "output_type": "execute_result"
    }
   ],
   "source": [
    "max(new_letter_counts.values()) - min(new_letter_counts.values())"
   ]
  }
 ],
 "metadata": {
  "kernelspec": {
   "display_name": "Python 3",
   "language": "python",
   "name": "python3"
  },
  "language_info": {
   "codemirror_mode": {
    "name": "ipython",
    "version": 3
   },
   "file_extension": ".py",
   "mimetype": "text/x-python",
   "name": "python",
   "nbconvert_exporter": "python",
   "pygments_lexer": "ipython3",
   "version": "3.6.8"
  }
 },
 "nbformat": 4,
 "nbformat_minor": 4
}
