{
 "cells": [
  {
   "cell_type": "code",
   "execution_count": 1,
   "metadata": {},
   "outputs": [],
   "source": [
    "import numpy as np\n",
    "from copy import deepcopy"
   ]
  },
  {
   "cell_type": "code",
   "execution_count": 2,
   "metadata": {},
   "outputs": [],
   "source": [
    "input_str = \"\"\"\n",
    "4112256372\n",
    "3143253712\n",
    "4516848631\n",
    "3783477137\n",
    "3746723582\n",
    "5861358884\n",
    "4843351774\n",
    "2316447621\n",
    "6643817745\n",
    "6366815868\n",
    "\"\"\""
   ]
  },
  {
   "cell_type": "code",
   "execution_count": 3,
   "metadata": {},
   "outputs": [],
   "source": [
    "data = []\n",
    "for line in input_str.strip().split('\\n'):\n",
    "    line_split = [int(x) for x in list(line)]\n",
    "    data.append(line_split)"
   ]
  },
  {
   "cell_type": "code",
   "execution_count": 4,
   "metadata": {},
   "outputs": [],
   "source": [
    "data = np.array(data)"
   ]
  },
  {
   "cell_type": "code",
   "execution_count": 5,
   "metadata": {},
   "outputs": [],
   "source": [
    "data_copy = deepcopy(data)"
   ]
  },
  {
   "cell_type": "code",
   "execution_count": 6,
   "metadata": {},
   "outputs": [],
   "source": [
    "def get_neighbors(x, y):\n",
    "    neighbors = []\n",
    "    for i in range(-1, 2):\n",
    "        for j in range(-1, 2):\n",
    "            if i != 0 or j != 0:\n",
    "                neighbor = (x + i, y + j)\n",
    "                if 0 <= neighbor[0] < max_x and 0 <= neighbor[1] < max_y:\n",
    "                    neighbors.append(neighbor)\n",
    "    return neighbors"
   ]
  },
  {
   "cell_type": "code",
   "execution_count": 7,
   "metadata": {},
   "outputs": [],
   "source": [
    "def get_new_flashes(new_flashes, old_flashes):\n",
    "    next_new_flashes = set()\n",
    "    for new_flash in new_flashes:\n",
    "        neighbors = get_neighbors(*new_flash)\n",
    "        for n in neighbors:\n",
    "            data[n] += 1\n",
    "            if data[n] > 9 and n not in old_flashes and n not in new_flashes and n not in next_new_flashes:\n",
    "                next_new_flashes.add(n)\n",
    "    return next_new_flashes"
   ]
  },
  {
   "cell_type": "code",
   "execution_count": 8,
   "metadata": {},
   "outputs": [],
   "source": [
    "max_x, max_y = data.shape"
   ]
  },
  {
   "cell_type": "code",
   "execution_count": 9,
   "metadata": {},
   "outputs": [],
   "source": [
    "def do_step():\n",
    "    new_flashes = set()\n",
    "    for x in range(max_x):\n",
    "        for y in range(max_y):\n",
    "            data[x, y] += 1\n",
    "            if data[x, y] > 9:\n",
    "                new_flashes.add((x, y))\n",
    "\n",
    "    old_flashes = set()\n",
    "    while len(new_flashes) > 0:\n",
    "        next_new_flashes = get_new_flashes(new_flashes, old_flashes)\n",
    "        old_flashes = old_flashes.union(new_flashes)\n",
    "        new_flashes = next_new_flashes\n",
    "\n",
    "    for flash in old_flashes:\n",
    "        data[flash] = 0\n",
    "    \n",
    "    return len(old_flashes)"
   ]
  },
  {
   "cell_type": "code",
   "execution_count": 10,
   "metadata": {},
   "outputs": [],
   "source": [
    "def is_synced(data):\n",
    "    is_sync = True\n",
    "    for x in range(max_x):\n",
    "        for y in range(max_y):\n",
    "            if data[x, y] != 0:\n",
    "                is_sync = False\n",
    "    return is_sync"
   ]
  },
  {
   "cell_type": "code",
   "execution_count": 11,
   "metadata": {},
   "outputs": [],
   "source": [
    "count = 0\n",
    "for i in range(100):\n",
    "    count += do_step()"
   ]
  },
  {
   "cell_type": "code",
   "execution_count": 12,
   "metadata": {},
   "outputs": [
    {
     "data": {
      "text/plain": [
       "1603"
      ]
     },
     "execution_count": 12,
     "metadata": {},
     "output_type": "execute_result"
    }
   ],
   "source": [
    "count"
   ]
  },
  {
   "cell_type": "code",
   "execution_count": 13,
   "metadata": {},
   "outputs": [],
   "source": [
    "data = deepcopy(data_copy)"
   ]
  },
  {
   "cell_type": "code",
   "execution_count": 14,
   "metadata": {},
   "outputs": [
    {
     "name": "stdout",
     "output_type": "stream",
     "text": [
      "222\n"
     ]
    }
   ],
   "source": [
    "i = 0\n",
    "while True:\n",
    "    i += 1\n",
    "    do_step()\n",
    "    if is_synced(data):\n",
    "        print(i)\n",
    "        break"
   ]
  },
  {
   "cell_type": "code",
   "execution_count": null,
   "metadata": {},
   "outputs": [],
   "source": []
  }
 ],
 "metadata": {
  "kernelspec": {
   "display_name": "Python 3",
   "language": "python",
   "name": "python3"
  },
  "language_info": {
   "codemirror_mode": {
    "name": "ipython",
    "version": 3
   },
   "file_extension": ".py",
   "mimetype": "text/x-python",
   "name": "python",
   "nbconvert_exporter": "python",
   "pygments_lexer": "ipython3",
   "version": "3.6.8"
  }
 },
 "nbformat": 4,
 "nbformat_minor": 4
}
